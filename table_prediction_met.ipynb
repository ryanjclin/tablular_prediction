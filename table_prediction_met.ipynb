{
 "cells": [
  {
   "cell_type": "code",
   "execution_count": 42,
   "metadata": {},
   "outputs": [],
   "source": [
    "import torch\n",
    "import pandas as pd\n",
    "from sklearn.preprocessing import LabelEncoder\n",
    "from sklearn.model_selection import train_test_split\n",
    "\n",
    "import numpy as np\n",
    "from torch.utils.data import Dataset, DataLoader\n",
    "import torch.nn as nn\n",
    "from tqdm import tqdm\n",
    "from torch.nn import functional as F\n",
    "import matplotlib.pyplot as plt\n",
    "\n",
    "from torch.optim.lr_scheduler import LambdaLR"
   ]
  },
  {
   "cell_type": "code",
   "execution_count": 43,
   "metadata": {},
   "outputs": [],
   "source": [
    "import torch\n",
    "import pandas as pd\n",
    "from sklearn.preprocessing import LabelEncoder\n",
    "from sklearn.model_selection import train_test_split\n",
    "\n",
    "import numpy as np\n",
    "from torch.utils.data import Dataset, DataLoader\n",
    "import torch.nn as nn\n",
    "from tqdm import tqdm\n",
    "from torch.nn import functional as F\n",
    "import matplotlib.pyplot as plt\n",
    "\n",
    "from torch.optim.lr_scheduler import LambdaLR"
   ]
  },
  {
   "cell_type": "markdown",
   "metadata": {},
   "source": [
    "### Load Data"
   ]
  },
  {
   "cell_type": "code",
   "execution_count": 44,
   "metadata": {},
   "outputs": [],
   "source": [
    "df = pd.read_csv(\"./Students_Grading_Dataset.csv\")"
   ]
  },
  {
   "cell_type": "markdown",
   "metadata": {},
   "source": [
    "## Manually select Cols (attribute)"
   ]
  },
  {
   "cell_type": "code",
   "execution_count": 45,
   "metadata": {},
   "outputs": [
    {
     "data": {
      "text/html": [
       "<div>\n",
       "<style scoped>\n",
       "    .dataframe tbody tr th:only-of-type {\n",
       "        vertical-align: middle;\n",
       "    }\n",
       "\n",
       "    .dataframe tbody tr th {\n",
       "        vertical-align: top;\n",
       "    }\n",
       "\n",
       "    .dataframe thead th {\n",
       "        text-align: right;\n",
       "    }\n",
       "</style>\n",
       "<table border=\"1\" class=\"dataframe\">\n",
       "  <thead>\n",
       "    <tr style=\"text-align: right;\">\n",
       "      <th></th>\n",
       "      <th>Gender</th>\n",
       "      <th>Age</th>\n",
       "      <th>Department</th>\n",
       "      <th>Attendance (%)</th>\n",
       "      <th>Midterm_Score</th>\n",
       "      <th>Final_Score</th>\n",
       "      <th>Assignments_Avg</th>\n",
       "      <th>Quizzes_Avg</th>\n",
       "      <th>Projects_Score</th>\n",
       "      <th>Total_Score</th>\n",
       "      <th>Grade</th>\n",
       "      <th>Study_Hours_per_Week</th>\n",
       "      <th>Extracurricular_Activities</th>\n",
       "      <th>Internet_Access_at_Home</th>\n",
       "      <th>Parent_Education_Level</th>\n",
       "      <th>Family_Income_Level</th>\n",
       "      <th>Stress_Level (1-10)</th>\n",
       "      <th>Sleep_Hours_per_Night</th>\n",
       "    </tr>\n",
       "  </thead>\n",
       "  <tbody>\n",
       "    <tr>\n",
       "      <th>0</th>\n",
       "      <td>Female</td>\n",
       "      <td>22</td>\n",
       "      <td>Engineering</td>\n",
       "      <td>52.29</td>\n",
       "      <td>55.03</td>\n",
       "      <td>57.82</td>\n",
       "      <td>84.22</td>\n",
       "      <td>74.06</td>\n",
       "      <td>85.90</td>\n",
       "      <td>56.09</td>\n",
       "      <td>F</td>\n",
       "      <td>6.2</td>\n",
       "      <td>No</td>\n",
       "      <td>Yes</td>\n",
       "      <td>High School</td>\n",
       "      <td>Medium</td>\n",
       "      <td>5</td>\n",
       "      <td>4.7</td>\n",
       "    </tr>\n",
       "    <tr>\n",
       "      <th>1</th>\n",
       "      <td>Male</td>\n",
       "      <td>18</td>\n",
       "      <td>Engineering</td>\n",
       "      <td>97.27</td>\n",
       "      <td>97.23</td>\n",
       "      <td>45.80</td>\n",
       "      <td>NaN</td>\n",
       "      <td>94.24</td>\n",
       "      <td>55.65</td>\n",
       "      <td>50.64</td>\n",
       "      <td>A</td>\n",
       "      <td>19.0</td>\n",
       "      <td>No</td>\n",
       "      <td>Yes</td>\n",
       "      <td>NaN</td>\n",
       "      <td>Medium</td>\n",
       "      <td>4</td>\n",
       "      <td>9.0</td>\n",
       "    </tr>\n",
       "    <tr>\n",
       "      <th>2</th>\n",
       "      <td>Male</td>\n",
       "      <td>24</td>\n",
       "      <td>Business</td>\n",
       "      <td>57.19</td>\n",
       "      <td>67.05</td>\n",
       "      <td>93.68</td>\n",
       "      <td>67.70</td>\n",
       "      <td>85.70</td>\n",
       "      <td>73.79</td>\n",
       "      <td>70.30</td>\n",
       "      <td>D</td>\n",
       "      <td>20.7</td>\n",
       "      <td>No</td>\n",
       "      <td>Yes</td>\n",
       "      <td>Master's</td>\n",
       "      <td>Low</td>\n",
       "      <td>6</td>\n",
       "      <td>6.2</td>\n",
       "    </tr>\n",
       "    <tr>\n",
       "      <th>3</th>\n",
       "      <td>Female</td>\n",
       "      <td>24</td>\n",
       "      <td>Mathematics</td>\n",
       "      <td>95.15</td>\n",
       "      <td>47.79</td>\n",
       "      <td>80.63</td>\n",
       "      <td>66.06</td>\n",
       "      <td>93.51</td>\n",
       "      <td>92.12</td>\n",
       "      <td>61.63</td>\n",
       "      <td>A</td>\n",
       "      <td>24.8</td>\n",
       "      <td>Yes</td>\n",
       "      <td>Yes</td>\n",
       "      <td>High School</td>\n",
       "      <td>High</td>\n",
       "      <td>3</td>\n",
       "      <td>6.7</td>\n",
       "    </tr>\n",
       "    <tr>\n",
       "      <th>4</th>\n",
       "      <td>Female</td>\n",
       "      <td>23</td>\n",
       "      <td>CS</td>\n",
       "      <td>54.18</td>\n",
       "      <td>46.59</td>\n",
       "      <td>78.89</td>\n",
       "      <td>96.85</td>\n",
       "      <td>83.70</td>\n",
       "      <td>68.42</td>\n",
       "      <td>66.13</td>\n",
       "      <td>F</td>\n",
       "      <td>15.4</td>\n",
       "      <td>Yes</td>\n",
       "      <td>Yes</td>\n",
       "      <td>High School</td>\n",
       "      <td>High</td>\n",
       "      <td>2</td>\n",
       "      <td>7.1</td>\n",
       "    </tr>\n",
       "    <tr>\n",
       "      <th>...</th>\n",
       "      <td>...</td>\n",
       "      <td>...</td>\n",
       "      <td>...</td>\n",
       "      <td>...</td>\n",
       "      <td>...</td>\n",
       "      <td>...</td>\n",
       "      <td>...</td>\n",
       "      <td>...</td>\n",
       "      <td>...</td>\n",
       "      <td>...</td>\n",
       "      <td>...</td>\n",
       "      <td>...</td>\n",
       "      <td>...</td>\n",
       "      <td>...</td>\n",
       "      <td>...</td>\n",
       "      <td>...</td>\n",
       "      <td>...</td>\n",
       "      <td>...</td>\n",
       "    </tr>\n",
       "    <tr>\n",
       "      <th>4995</th>\n",
       "      <td>Male</td>\n",
       "      <td>19</td>\n",
       "      <td>Business</td>\n",
       "      <td>NaN</td>\n",
       "      <td>82.15</td>\n",
       "      <td>60.33</td>\n",
       "      <td>80.09</td>\n",
       "      <td>99.32</td>\n",
       "      <td>58.42</td>\n",
       "      <td>85.21</td>\n",
       "      <td>D</td>\n",
       "      <td>25.5</td>\n",
       "      <td>No</td>\n",
       "      <td>Yes</td>\n",
       "      <td>High School</td>\n",
       "      <td>Low</td>\n",
       "      <td>10</td>\n",
       "      <td>8.3</td>\n",
       "    </tr>\n",
       "    <tr>\n",
       "      <th>4996</th>\n",
       "      <td>Male</td>\n",
       "      <td>19</td>\n",
       "      <td>Business</td>\n",
       "      <td>65.11</td>\n",
       "      <td>86.31</td>\n",
       "      <td>49.80</td>\n",
       "      <td>NaN</td>\n",
       "      <td>88.08</td>\n",
       "      <td>60.87</td>\n",
       "      <td>95.96</td>\n",
       "      <td>C</td>\n",
       "      <td>5.0</td>\n",
       "      <td>No</td>\n",
       "      <td>Yes</td>\n",
       "      <td>NaN</td>\n",
       "      <td>Medium</td>\n",
       "      <td>4</td>\n",
       "      <td>4.0</td>\n",
       "    </tr>\n",
       "    <tr>\n",
       "      <th>4997</th>\n",
       "      <td>Female</td>\n",
       "      <td>24</td>\n",
       "      <td>CS</td>\n",
       "      <td>87.54</td>\n",
       "      <td>63.55</td>\n",
       "      <td>64.21</td>\n",
       "      <td>94.28</td>\n",
       "      <td>50.19</td>\n",
       "      <td>82.65</td>\n",
       "      <td>54.25</td>\n",
       "      <td>A</td>\n",
       "      <td>24.8</td>\n",
       "      <td>Yes</td>\n",
       "      <td>No</td>\n",
       "      <td>High School</td>\n",
       "      <td>Medium</td>\n",
       "      <td>4</td>\n",
       "      <td>6.3</td>\n",
       "    </tr>\n",
       "    <tr>\n",
       "      <th>4998</th>\n",
       "      <td>Male</td>\n",
       "      <td>23</td>\n",
       "      <td>CS</td>\n",
       "      <td>92.56</td>\n",
       "      <td>79.79</td>\n",
       "      <td>94.28</td>\n",
       "      <td>81.20</td>\n",
       "      <td>61.18</td>\n",
       "      <td>94.29</td>\n",
       "      <td>55.84</td>\n",
       "      <td>A</td>\n",
       "      <td>16.1</td>\n",
       "      <td>Yes</td>\n",
       "      <td>Yes</td>\n",
       "      <td>Bachelor's</td>\n",
       "      <td>Low</td>\n",
       "      <td>1</td>\n",
       "      <td>8.4</td>\n",
       "    </tr>\n",
       "    <tr>\n",
       "      <th>4999</th>\n",
       "      <td>Female</td>\n",
       "      <td>21</td>\n",
       "      <td>Engineering</td>\n",
       "      <td>83.92</td>\n",
       "      <td>83.24</td>\n",
       "      <td>53.47</td>\n",
       "      <td>51.76</td>\n",
       "      <td>83.51</td>\n",
       "      <td>69.25</td>\n",
       "      <td>77.86</td>\n",
       "      <td>F</td>\n",
       "      <td>29.2</td>\n",
       "      <td>No</td>\n",
       "      <td>Yes</td>\n",
       "      <td>PhD</td>\n",
       "      <td>Low</td>\n",
       "      <td>2</td>\n",
       "      <td>6.1</td>\n",
       "    </tr>\n",
       "  </tbody>\n",
       "</table>\n",
       "<p>5000 rows × 18 columns</p>\n",
       "</div>"
      ],
      "text/plain": [
       "      Gender  Age   Department  Attendance (%)  Midterm_Score  Final_Score  \\\n",
       "0     Female   22  Engineering           52.29          55.03        57.82   \n",
       "1       Male   18  Engineering           97.27          97.23        45.80   \n",
       "2       Male   24     Business           57.19          67.05        93.68   \n",
       "3     Female   24  Mathematics           95.15          47.79        80.63   \n",
       "4     Female   23           CS           54.18          46.59        78.89   \n",
       "...      ...  ...          ...             ...            ...          ...   \n",
       "4995    Male   19     Business             NaN          82.15        60.33   \n",
       "4996    Male   19     Business           65.11          86.31        49.80   \n",
       "4997  Female   24           CS           87.54          63.55        64.21   \n",
       "4998    Male   23           CS           92.56          79.79        94.28   \n",
       "4999  Female   21  Engineering           83.92          83.24        53.47   \n",
       "\n",
       "      Assignments_Avg  Quizzes_Avg  Projects_Score  Total_Score Grade  \\\n",
       "0               84.22        74.06           85.90        56.09     F   \n",
       "1                 NaN        94.24           55.65        50.64     A   \n",
       "2               67.70        85.70           73.79        70.30     D   \n",
       "3               66.06        93.51           92.12        61.63     A   \n",
       "4               96.85        83.70           68.42        66.13     F   \n",
       "...               ...          ...             ...          ...   ...   \n",
       "4995            80.09        99.32           58.42        85.21     D   \n",
       "4996              NaN        88.08           60.87        95.96     C   \n",
       "4997            94.28        50.19           82.65        54.25     A   \n",
       "4998            81.20        61.18           94.29        55.84     A   \n",
       "4999            51.76        83.51           69.25        77.86     F   \n",
       "\n",
       "      Study_Hours_per_Week Extracurricular_Activities Internet_Access_at_Home  \\\n",
       "0                      6.2                         No                     Yes   \n",
       "1                     19.0                         No                     Yes   \n",
       "2                     20.7                         No                     Yes   \n",
       "3                     24.8                        Yes                     Yes   \n",
       "4                     15.4                        Yes                     Yes   \n",
       "...                    ...                        ...                     ...   \n",
       "4995                  25.5                         No                     Yes   \n",
       "4996                   5.0                         No                     Yes   \n",
       "4997                  24.8                        Yes                      No   \n",
       "4998                  16.1                        Yes                     Yes   \n",
       "4999                  29.2                         No                     Yes   \n",
       "\n",
       "     Parent_Education_Level Family_Income_Level  Stress_Level (1-10)  \\\n",
       "0               High School              Medium                    5   \n",
       "1                       NaN              Medium                    4   \n",
       "2                  Master's                 Low                    6   \n",
       "3               High School                High                    3   \n",
       "4               High School                High                    2   \n",
       "...                     ...                 ...                  ...   \n",
       "4995            High School                 Low                   10   \n",
       "4996                    NaN              Medium                    4   \n",
       "4997            High School              Medium                    4   \n",
       "4998             Bachelor's                 Low                    1   \n",
       "4999                    PhD                 Low                    2   \n",
       "\n",
       "      Sleep_Hours_per_Night  \n",
       "0                       4.7  \n",
       "1                       9.0  \n",
       "2                       6.2  \n",
       "3                       6.7  \n",
       "4                       7.1  \n",
       "...                     ...  \n",
       "4995                    8.3  \n",
       "4996                    4.0  \n",
       "4997                    6.3  \n",
       "4998                    8.4  \n",
       "4999                    6.1  \n",
       "\n",
       "[5000 rows x 18 columns]"
      ]
     },
     "execution_count": 45,
     "metadata": {},
     "output_type": "execute_result"
    }
   ],
   "source": [
    "unimportant_attribute = ['Student_ID', 'First_Name', 'Last_Name', 'Email', 'Participation_Score']\n",
    "\n",
    "filtered_df = df.drop(unimportant_attribute, axis=1)\n",
    "filtered_df"
   ]
  },
  {
   "cell_type": "code",
   "execution_count": 46,
   "metadata": {},
   "outputs": [],
   "source": [
    "category_vars = ['Gender', 'Department', 'Grade', 'Extracurricular_Activities', 'Internet_Access_at_Home', 'Parent_Education_Level', 'Family_Income_Level']\n",
    "# numerical_score_vars = ['Attendance (%)', 'Midterm_Score', 'Final_Score', 'Assignments_Avg', 'Quizzes_Avg', 'Participation_Score', 'Projects_Score', 'Total_Score', 'Stress_Level (1-10)']\n",
    "numerical_score_vars = ['Attendance (%)', 'Midterm_Score', 'Final_Score', 'Assignments_Avg', 'Quizzes_Avg', 'Projects_Score', 'Total_Score']\n",
    "numerical_scalar_vars = list(set(filtered_df.columns) - set(category_vars) - set(numerical_score_vars))"
   ]
  },
  {
   "cell_type": "markdown",
   "metadata": {},
   "source": [
    "## Separate rows with-Nan and without-Nan"
   ]
  },
  {
   "cell_type": "code",
   "execution_count": 47,
   "metadata": {},
   "outputs": [
    {
     "name": "stdout",
     "output_type": "stream",
     "text": [
      "row with Nan: (2419, 18)\n",
      "row without Nan: (2581, 18)\n"
     ]
    }
   ],
   "source": [
    "nan_rows = filtered_df.isna().any(axis=1)\n",
    "\n",
    "# Nan rows\n",
    "df_nan = filtered_df[nan_rows]\n",
    "print(f\"row with Nan: {df_nan.shape}\")\n",
    "\n",
    "# Complete rows\n",
    "df_complete = filtered_df[~nan_rows]\n",
    "print(f\"row without Nan: {df_complete.shape}\")"
   ]
  },
  {
   "cell_type": "code",
   "execution_count": 48,
   "metadata": {},
   "outputs": [
    {
     "name": "stdout",
     "output_type": "stream",
     "text": [
      "df_train: (1806, 18)\n",
      "df_valid: (775, 18)\n"
     ]
    }
   ],
   "source": [
    "df_train, df_valid, _, _ = train_test_split(df_complete, df_complete, test_size=0.3, random_state=0)\n",
    "\n",
    "df_train_id = [i for i in range(len(df_train))]\n",
    "df_valid_id = [i for i in range(len(df_valid))]\n",
    "\n",
    "print(f\"df_train: {df_train.shape}\")\n",
    "print(f\"df_valid: {df_valid.shape}\")\n",
    "\n",
    "# print(f\"df_train_id: {df_train_id}\")\n",
    "# print(f\"df_valid_id: {df_valid_id}\")\n"
   ]
  },
  {
   "cell_type": "markdown",
   "metadata": {},
   "source": [
    "## Preprocessing: \n",
    "1. category to numerical\n",
    "2. max-min norm"
   ]
  },
  {
   "cell_type": "code",
   "execution_count": 49,
   "metadata": {},
   "outputs": [],
   "source": [
    "def category_to_numerical(data):\n",
    "    le = LabelEncoder()\n",
    "    le.fit(data)\n",
    "    num_data = le.transform(data)\n",
    "    \n",
    "    return num_data, le\n",
    "\n",
    "def max_min_norm_score(data, train_params = None, process_type = 'train'):\n",
    "    \n",
    "    if process_type == 'train':\n",
    "        data_max = 100\n",
    "        data_min = 0\n",
    "    else:\n",
    "        data_max = 100\n",
    "        data_min = 0\n",
    "        \n",
    "    norm_data = (data - data_min) / (data_max - data_min)    \n",
    "    \n",
    "    if process_type == 'train':\n",
    "        return norm_data, data_max, data_min\n",
    "    else:\n",
    "        return norm_data\n",
    "    \n",
    "def max_min_norm_scalar(data, train_params = None, process_type = 'train'):\n",
    "    \n",
    "    if process_type == 'train':\n",
    "        data_max = 10\n",
    "        data_min = 0\n",
    "    else:\n",
    "        data_max = 10\n",
    "        data_min = 0\n",
    "        \n",
    "    norm_data = (data - data_min) / (data_max - data_min)    \n",
    "    \n",
    "    if process_type == 'train':\n",
    "        return norm_data, data_max, data_min\n",
    "    else:\n",
    "        return norm_data\n",
    "\n",
    "    \n",
    "def preprocessing(df, train_params = None, process_type = 'train'):\n",
    "    \n",
    "    new_df = pd.DataFrame()\n",
    "    \n",
    "    if process_type == 'train':\n",
    "        train_params = {}\n",
    "        category_var_len = {}\n",
    "\n",
    "    # Category \n",
    "    for cat_name in category_vars:\n",
    "        cat_var = df[cat_name]\n",
    "        if process_type == 'train':\n",
    "            cat_var, le = category_to_numerical(cat_var)\n",
    "            train_params[f'{cat_name}_le'] = le\n",
    "            category_var_len[f'{cat_name}'] = len(np.unique(cat_var))\n",
    "        else:\n",
    "            cat_var = train_params[f'{cat_name}_le'].transform(cat_var)\n",
    "        new_df[f'{cat_name}'] = cat_var\n",
    "    \n",
    "    # Numerical score\n",
    "    for num_name in numerical_score_vars:\n",
    "        num_var = df[num_name]\n",
    "        # if process_type == 'train':\n",
    "        #     num_var, data_max, data_min = max_min_norm_score(num_var, process_type = 'train')\n",
    "        #     train_params[num_name] = [data_max, data_min]\n",
    "        # else:\n",
    "        #     num_var = max_min_norm_score(num_var, train_params, process_type = 'valid')\n",
    "        new_df[num_name] = num_var.values\n",
    "    \n",
    "    # Numerical scalar\n",
    "    for num_name in numerical_scalar_vars:\n",
    "        num_var = df[num_name]\n",
    "        # num_var = np.log(num_var)\n",
    "        # if process_type == 'train':\n",
    "        #     num_var, data_max, data_min = max_min_norm_scalar(num_var, process_type = 'train')\n",
    "        #     train_params[num_name] = [data_max, data_min]\n",
    "        # else:\n",
    "        #     num_var = max_min_norm_scalar(num_var, train_params, process_type = 'valid')\n",
    "        new_df[num_name] = num_var.values\n",
    "        \n",
    "        \n",
    "    if process_type == 'train':\n",
    "        return new_df, train_params, category_var_len\n",
    "    else:\n",
    "        return new_df\n"
   ]
  },
  {
   "cell_type": "code",
   "execution_count": 50,
   "metadata": {},
   "outputs": [
    {
     "name": "stdout",
     "output_type": "stream",
     "text": [
      "category_var_len: {'Gender': 2, 'Department': 4, 'Grade': 5, 'Extracurricular_Activities': 2, 'Internet_Access_at_Home': 2, 'Parent_Education_Level': 4, 'Family_Income_Level': 3}\n",
      "processed_df_train: (1806, 18)\n"
     ]
    },
    {
     "data": {
      "text/html": [
       "<div>\n",
       "<style scoped>\n",
       "    .dataframe tbody tr th:only-of-type {\n",
       "        vertical-align: middle;\n",
       "    }\n",
       "\n",
       "    .dataframe tbody tr th {\n",
       "        vertical-align: top;\n",
       "    }\n",
       "\n",
       "    .dataframe thead th {\n",
       "        text-align: right;\n",
       "    }\n",
       "</style>\n",
       "<table border=\"1\" class=\"dataframe\">\n",
       "  <thead>\n",
       "    <tr style=\"text-align: right;\">\n",
       "      <th></th>\n",
       "      <th>Gender</th>\n",
       "      <th>Department</th>\n",
       "      <th>Grade</th>\n",
       "      <th>Extracurricular_Activities</th>\n",
       "      <th>Internet_Access_at_Home</th>\n",
       "      <th>Parent_Education_Level</th>\n",
       "      <th>Family_Income_Level</th>\n",
       "      <th>Attendance (%)</th>\n",
       "      <th>Midterm_Score</th>\n",
       "      <th>Final_Score</th>\n",
       "      <th>Assignments_Avg</th>\n",
       "      <th>Quizzes_Avg</th>\n",
       "      <th>Projects_Score</th>\n",
       "      <th>Total_Score</th>\n",
       "      <th>Study_Hours_per_Week</th>\n",
       "      <th>Age</th>\n",
       "      <th>Sleep_Hours_per_Night</th>\n",
       "      <th>Stress_Level (1-10)</th>\n",
       "    </tr>\n",
       "  </thead>\n",
       "  <tbody>\n",
       "    <tr>\n",
       "      <th>0</th>\n",
       "      <td>1</td>\n",
       "      <td>1</td>\n",
       "      <td>1</td>\n",
       "      <td>1</td>\n",
       "      <td>1</td>\n",
       "      <td>0</td>\n",
       "      <td>1</td>\n",
       "      <td>89.89</td>\n",
       "      <td>42.55</td>\n",
       "      <td>50.45</td>\n",
       "      <td>55.28</td>\n",
       "      <td>76.34</td>\n",
       "      <td>57.83</td>\n",
       "      <td>74.26</td>\n",
       "      <td>27.8</td>\n",
       "      <td>24</td>\n",
       "      <td>8.4</td>\n",
       "      <td>4</td>\n",
       "    </tr>\n",
       "    <tr>\n",
       "      <th>1</th>\n",
       "      <td>1</td>\n",
       "      <td>3</td>\n",
       "      <td>2</td>\n",
       "      <td>0</td>\n",
       "      <td>1</td>\n",
       "      <td>3</td>\n",
       "      <td>2</td>\n",
       "      <td>55.62</td>\n",
       "      <td>81.90</td>\n",
       "      <td>45.43</td>\n",
       "      <td>53.80</td>\n",
       "      <td>92.15</td>\n",
       "      <td>63.71</td>\n",
       "      <td>89.95</td>\n",
       "      <td>5.9</td>\n",
       "      <td>23</td>\n",
       "      <td>6.9</td>\n",
       "      <td>2</td>\n",
       "    </tr>\n",
       "    <tr>\n",
       "      <th>2</th>\n",
       "      <td>1</td>\n",
       "      <td>1</td>\n",
       "      <td>4</td>\n",
       "      <td>0</td>\n",
       "      <td>1</td>\n",
       "      <td>1</td>\n",
       "      <td>1</td>\n",
       "      <td>63.09</td>\n",
       "      <td>60.57</td>\n",
       "      <td>56.80</td>\n",
       "      <td>53.42</td>\n",
       "      <td>82.88</td>\n",
       "      <td>56.71</td>\n",
       "      <td>59.43</td>\n",
       "      <td>18.9</td>\n",
       "      <td>19</td>\n",
       "      <td>4.9</td>\n",
       "      <td>7</td>\n",
       "    </tr>\n",
       "    <tr>\n",
       "      <th>3</th>\n",
       "      <td>1</td>\n",
       "      <td>2</td>\n",
       "      <td>2</td>\n",
       "      <td>1</td>\n",
       "      <td>1</td>\n",
       "      <td>1</td>\n",
       "      <td>2</td>\n",
       "      <td>60.77</td>\n",
       "      <td>98.69</td>\n",
       "      <td>45.50</td>\n",
       "      <td>57.71</td>\n",
       "      <td>53.39</td>\n",
       "      <td>55.16</td>\n",
       "      <td>83.37</td>\n",
       "      <td>16.8</td>\n",
       "      <td>19</td>\n",
       "      <td>8.2</td>\n",
       "      <td>10</td>\n",
       "    </tr>\n",
       "    <tr>\n",
       "      <th>4</th>\n",
       "      <td>0</td>\n",
       "      <td>2</td>\n",
       "      <td>1</td>\n",
       "      <td>0</td>\n",
       "      <td>1</td>\n",
       "      <td>1</td>\n",
       "      <td>2</td>\n",
       "      <td>95.90</td>\n",
       "      <td>84.59</td>\n",
       "      <td>68.58</td>\n",
       "      <td>52.04</td>\n",
       "      <td>63.89</td>\n",
       "      <td>65.54</td>\n",
       "      <td>88.54</td>\n",
       "      <td>6.3</td>\n",
       "      <td>21</td>\n",
       "      <td>8.9</td>\n",
       "      <td>6</td>\n",
       "    </tr>\n",
       "  </tbody>\n",
       "</table>\n",
       "</div>"
      ],
      "text/plain": [
       "   Gender  Department  Grade  Extracurricular_Activities  \\\n",
       "0       1           1      1                           1   \n",
       "1       1           3      2                           0   \n",
       "2       1           1      4                           0   \n",
       "3       1           2      2                           1   \n",
       "4       0           2      1                           0   \n",
       "\n",
       "   Internet_Access_at_Home  Parent_Education_Level  Family_Income_Level  \\\n",
       "0                        1                       0                    1   \n",
       "1                        1                       3                    2   \n",
       "2                        1                       1                    1   \n",
       "3                        1                       1                    2   \n",
       "4                        1                       1                    2   \n",
       "\n",
       "   Attendance (%)  Midterm_Score  Final_Score  Assignments_Avg  Quizzes_Avg  \\\n",
       "0           89.89          42.55        50.45            55.28        76.34   \n",
       "1           55.62          81.90        45.43            53.80        92.15   \n",
       "2           63.09          60.57        56.80            53.42        82.88   \n",
       "3           60.77          98.69        45.50            57.71        53.39   \n",
       "4           95.90          84.59        68.58            52.04        63.89   \n",
       "\n",
       "   Projects_Score  Total_Score  Study_Hours_per_Week  Age  \\\n",
       "0           57.83        74.26                  27.8   24   \n",
       "1           63.71        89.95                   5.9   23   \n",
       "2           56.71        59.43                  18.9   19   \n",
       "3           55.16        83.37                  16.8   19   \n",
       "4           65.54        88.54                   6.3   21   \n",
       "\n",
       "   Sleep_Hours_per_Night  Stress_Level (1-10)  \n",
       "0                    8.4                    4  \n",
       "1                    6.9                    2  \n",
       "2                    4.9                    7  \n",
       "3                    8.2                   10  \n",
       "4                    8.9                    6  "
      ]
     },
     "execution_count": 50,
     "metadata": {},
     "output_type": "execute_result"
    }
   ],
   "source": [
    "processed_df_train, train_params, category_var_len = preprocessing(df_train, process_type = 'train')\n",
    "# train_params\n",
    "print(f\"category_var_len: {category_var_len}\")\n",
    "print(f\"processed_df_train: {processed_df_train.shape}\")\n",
    "\n",
    "cols_name = processed_df_train.columns\n",
    "processed_df_train.head()"
   ]
  },
  {
   "cell_type": "code",
   "execution_count": 51,
   "metadata": {},
   "outputs": [
    {
     "name": "stdout",
     "output_type": "stream",
     "text": [
      "processed_df_valid: (775, 18)\n"
     ]
    },
    {
     "data": {
      "text/html": [
       "<div>\n",
       "<style scoped>\n",
       "    .dataframe tbody tr th:only-of-type {\n",
       "        vertical-align: middle;\n",
       "    }\n",
       "\n",
       "    .dataframe tbody tr th {\n",
       "        vertical-align: top;\n",
       "    }\n",
       "\n",
       "    .dataframe thead th {\n",
       "        text-align: right;\n",
       "    }\n",
       "</style>\n",
       "<table border=\"1\" class=\"dataframe\">\n",
       "  <thead>\n",
       "    <tr style=\"text-align: right;\">\n",
       "      <th></th>\n",
       "      <th>Gender</th>\n",
       "      <th>Department</th>\n",
       "      <th>Grade</th>\n",
       "      <th>Extracurricular_Activities</th>\n",
       "      <th>Internet_Access_at_Home</th>\n",
       "      <th>Parent_Education_Level</th>\n",
       "      <th>Family_Income_Level</th>\n",
       "      <th>Attendance (%)</th>\n",
       "      <th>Midterm_Score</th>\n",
       "      <th>Final_Score</th>\n",
       "      <th>Assignments_Avg</th>\n",
       "      <th>Quizzes_Avg</th>\n",
       "      <th>Projects_Score</th>\n",
       "      <th>Total_Score</th>\n",
       "      <th>Study_Hours_per_Week</th>\n",
       "      <th>Age</th>\n",
       "      <th>Sleep_Hours_per_Night</th>\n",
       "      <th>Stress_Level (1-10)</th>\n",
       "    </tr>\n",
       "  </thead>\n",
       "  <tbody>\n",
       "    <tr>\n",
       "      <th>0</th>\n",
       "      <td>1</td>\n",
       "      <td>3</td>\n",
       "      <td>2</td>\n",
       "      <td>0</td>\n",
       "      <td>1</td>\n",
       "      <td>2</td>\n",
       "      <td>1</td>\n",
       "      <td>51.54</td>\n",
       "      <td>64.04</td>\n",
       "      <td>50.02</td>\n",
       "      <td>87.28</td>\n",
       "      <td>96.99</td>\n",
       "      <td>82.58</td>\n",
       "      <td>88.88</td>\n",
       "      <td>17.1</td>\n",
       "      <td>19</td>\n",
       "      <td>8.5</td>\n",
       "      <td>8</td>\n",
       "    </tr>\n",
       "    <tr>\n",
       "      <th>1</th>\n",
       "      <td>1</td>\n",
       "      <td>1</td>\n",
       "      <td>1</td>\n",
       "      <td>1</td>\n",
       "      <td>1</td>\n",
       "      <td>2</td>\n",
       "      <td>1</td>\n",
       "      <td>99.70</td>\n",
       "      <td>93.76</td>\n",
       "      <td>61.42</td>\n",
       "      <td>54.57</td>\n",
       "      <td>75.76</td>\n",
       "      <td>53.97</td>\n",
       "      <td>64.68</td>\n",
       "      <td>7.0</td>\n",
       "      <td>18</td>\n",
       "      <td>4.1</td>\n",
       "      <td>8</td>\n",
       "    </tr>\n",
       "    <tr>\n",
       "      <th>2</th>\n",
       "      <td>1</td>\n",
       "      <td>3</td>\n",
       "      <td>2</td>\n",
       "      <td>0</td>\n",
       "      <td>1</td>\n",
       "      <td>3</td>\n",
       "      <td>0</td>\n",
       "      <td>61.51</td>\n",
       "      <td>73.15</td>\n",
       "      <td>41.90</td>\n",
       "      <td>55.37</td>\n",
       "      <td>55.64</td>\n",
       "      <td>78.62</td>\n",
       "      <td>54.29</td>\n",
       "      <td>19.1</td>\n",
       "      <td>24</td>\n",
       "      <td>6.9</td>\n",
       "      <td>9</td>\n",
       "    </tr>\n",
       "    <tr>\n",
       "      <th>3</th>\n",
       "      <td>1</td>\n",
       "      <td>1</td>\n",
       "      <td>3</td>\n",
       "      <td>1</td>\n",
       "      <td>1</td>\n",
       "      <td>2</td>\n",
       "      <td>1</td>\n",
       "      <td>52.28</td>\n",
       "      <td>82.12</td>\n",
       "      <td>99.62</td>\n",
       "      <td>55.18</td>\n",
       "      <td>50.23</td>\n",
       "      <td>83.34</td>\n",
       "      <td>65.64</td>\n",
       "      <td>24.4</td>\n",
       "      <td>21</td>\n",
       "      <td>6.4</td>\n",
       "      <td>7</td>\n",
       "    </tr>\n",
       "    <tr>\n",
       "      <th>4</th>\n",
       "      <td>1</td>\n",
       "      <td>2</td>\n",
       "      <td>0</td>\n",
       "      <td>0</td>\n",
       "      <td>1</td>\n",
       "      <td>0</td>\n",
       "      <td>2</td>\n",
       "      <td>94.74</td>\n",
       "      <td>53.40</td>\n",
       "      <td>62.16</td>\n",
       "      <td>83.29</td>\n",
       "      <td>79.03</td>\n",
       "      <td>62.50</td>\n",
       "      <td>65.57</td>\n",
       "      <td>10.6</td>\n",
       "      <td>23</td>\n",
       "      <td>7.4</td>\n",
       "      <td>3</td>\n",
       "    </tr>\n",
       "  </tbody>\n",
       "</table>\n",
       "</div>"
      ],
      "text/plain": [
       "   Gender  Department  Grade  Extracurricular_Activities  \\\n",
       "0       1           3      2                           0   \n",
       "1       1           1      1                           1   \n",
       "2       1           3      2                           0   \n",
       "3       1           1      3                           1   \n",
       "4       1           2      0                           0   \n",
       "\n",
       "   Internet_Access_at_Home  Parent_Education_Level  Family_Income_Level  \\\n",
       "0                        1                       2                    1   \n",
       "1                        1                       2                    1   \n",
       "2                        1                       3                    0   \n",
       "3                        1                       2                    1   \n",
       "4                        1                       0                    2   \n",
       "\n",
       "   Attendance (%)  Midterm_Score  Final_Score  Assignments_Avg  Quizzes_Avg  \\\n",
       "0           51.54          64.04        50.02            87.28        96.99   \n",
       "1           99.70          93.76        61.42            54.57        75.76   \n",
       "2           61.51          73.15        41.90            55.37        55.64   \n",
       "3           52.28          82.12        99.62            55.18        50.23   \n",
       "4           94.74          53.40        62.16            83.29        79.03   \n",
       "\n",
       "   Projects_Score  Total_Score  Study_Hours_per_Week  Age  \\\n",
       "0           82.58        88.88                  17.1   19   \n",
       "1           53.97        64.68                   7.0   18   \n",
       "2           78.62        54.29                  19.1   24   \n",
       "3           83.34        65.64                  24.4   21   \n",
       "4           62.50        65.57                  10.6   23   \n",
       "\n",
       "   Sleep_Hours_per_Night  Stress_Level (1-10)  \n",
       "0                    8.5                    8  \n",
       "1                    4.1                    8  \n",
       "2                    6.9                    9  \n",
       "3                    6.4                    7  \n",
       "4                    7.4                    3  "
      ]
     },
     "execution_count": 51,
     "metadata": {},
     "output_type": "execute_result"
    }
   ],
   "source": [
    "processed_df_valid = preprocessing(df_valid, train_params, process_type = 'valid')\n",
    "print(f\"processed_df_valid: {processed_df_valid.shape}\")\n",
    "processed_df_valid.head()"
   ]
  },
  {
   "cell_type": "code",
   "execution_count": 52,
   "metadata": {},
   "outputs": [],
   "source": [
    "BATCH_SIZE = 256\n",
    "MASK_RATIO = 30"
   ]
  },
  {
   "cell_type": "code",
   "execution_count": 53,
   "metadata": {},
   "outputs": [],
   "source": [
    "def masking_helper(data, MASK_RATIO, seed = 42):\n",
    "    np.random.seed(seed)\n",
    "\n",
    "    rows, cols = data.shape\n",
    "    \n",
    "    # define mask/unmask ratio\n",
    "    unmask_ratio = ((100 - MASK_RATIO) * cols) // 100\n",
    "    mask_ratio = cols - unmask_ratio\n",
    "\n",
    "    # create random index\n",
    "    shuff_idx = np.array([np.random.permutation(cols) for _ in range(rows)])\n",
    "    \n",
    "    # define mask/unmask idx\n",
    "    mask_idx = shuff_idx[:, :mask_ratio]\n",
    "    unmask_idx = shuff_idx[:, mask_ratio:]\n",
    "    \n",
    "    mask_idx.sort(axis=1)\n",
    "    unmask_idx.sort(axis=1)\n",
    "    \n",
    "    # create new_data (contain unmask cols, but remove mask cols)\n",
    "    new_data = np.zeros((rows, unmask_ratio))\n",
    "    for i in range(rows):\n",
    "        new_data[i] = data[i][unmask_idx[i]]\n",
    "        \n",
    "    return new_data, unmask_idx, mask_idx, unmask_ratio\n",
    "\n",
    "def masking_fn(data, seed):\n",
    "    sample_size = len(data)\n",
    "\n",
    "    new_data, unmask_idx, mask_idx, unmask_ratio = masking_helper(data, MASK_RATIO, seed)\n",
    "        \n",
    "    X = [[],[],[],[]]\n",
    "    Y = []\n",
    "\n",
    "    for i in range(sample_size):\n",
    "        X[0].append(new_data[i]) # unmask data\n",
    "        X[1].append(unmask_idx[i]) # unmask id\n",
    "        X[2].append(mask_idx[i]) # mask id\n",
    "        X[3].append(np.ones(unmask_ratio)) # len = unmask, serve as random noisee in VAE\n",
    "        Y.append(data[i][list(unmask_idx[i])+list(mask_idx[i])]) # label (unmask + mask)\n",
    "\n",
    "    X[0] = torch.tensor(np.array(X[0])) # unmask data\n",
    "    X[1] = torch.tensor(np.array(X[1])) # unmask id\n",
    "    X[2] = torch.tensor(np.array(X[2])) # mask id\n",
    "    X[3] = torch.tensor(np.array(X[3])) # latent space\n",
    "    \n",
    "    Y = torch.tensor(np.array(Y))\n",
    "    \n",
    "\n",
    "    return X, Y"
   ]
  },
  {
   "cell_type": "code",
   "execution_count": 54,
   "metadata": {},
   "outputs": [],
   "source": [
    "def collate_fn_train(data_wtih_type):\n",
    "\n",
    "    # data\n",
    "    data = [dat[0] for dat in data_wtih_type]\n",
    "    data = np.array(data)\n",
    "    \n",
    "    # data type: training/valid\n",
    "    data_type = data_wtih_type[0][1]\n",
    "\n",
    "    if data_type == 'training':\n",
    "        seed = np.random.randint(5, size=1)\n",
    "    else:\n",
    "        seed = 42\n",
    "\n",
    "    data, label = masking_fn(data, seed)\n",
    "\n",
    "    return data, label\n",
    "\n",
    "class TableDataset(Dataset):\n",
    "    def __init__(self, data, data_type = 'training'):\n",
    "        self.data = data\n",
    "        self.data_type = data_type\n",
    "        \n",
    "    def __len__(self):\n",
    "        return len(self.data)\n",
    "    \n",
    "    def __getitem__(self, id):\n",
    "        dat = self.data.iloc[id, :]\n",
    "        dat = np.array(dat)\n",
    "        return dat, self.data_type\n",
    "        \n",
    "\n",
    "        "
   ]
  },
  {
   "cell_type": "code",
   "execution_count": 55,
   "metadata": {},
   "outputs": [],
   "source": [
    "\n",
    "\n",
    "device = torch.device(\"cuda:0\" if torch.cuda.is_available() else \"cpu\")\n",
    "\n",
    "augmented_processed_df_train = pd.concat([processed_df_train, processed_df_train, processed_df_train], axis = 0)\n",
    "train_dataset = TableDataset(augmented_processed_df_train)\n",
    "train_dataloader = DataLoader(train_dataset, batch_size=BATCH_SIZE, num_workers=4, shuffle=False, collate_fn = collate_fn_train)\n",
    "\n",
    "\n",
    "valid_dataset = TableDataset(processed_df_valid, data_type = 'valid')\n",
    "valid_dataloader = DataLoader(valid_dataset, batch_size=BATCH_SIZE, shuffle=False, collate_fn = collate_fn_train)"
   ]
  },
  {
   "cell_type": "code",
   "execution_count": 56,
   "metadata": {},
   "outputs": [],
   "source": [
    "class positional_encoder(nn.Module):\n",
    "    def __init__(self, encoder_emb_dim, num_variables):\n",
    "        super().__init__()\n",
    "        \n",
    "        self.encoder_emb_dim = encoder_emb_dim\n",
    "        self.pos_emb = nn.Embedding(num_variables, encoder_emb_dim)\n",
    "        \n",
    "    def forward(self, unmasked_data, unmasked_idx, masked_idx):\n",
    "        \n",
    "        unmasked_pos_info = self.pos_emb(unmasked_idx.long()).float()\n",
    "\n",
    "        masked_pos_info = self.pos_emb(masked_idx.long()).float()\n",
    "\n",
    "        unmasked_data = torch.unsqueeze(unmasked_data, dim = 2) # (batch_size, num_vars, 1)\n",
    "        unmasked_data_w_pos = torch.cat([unmasked_data, unmasked_pos_info], dim = 2) # (batch_size, num_vars, 1 + encoder_emb_dim)\n",
    "        \n",
    "        return unmasked_data_w_pos, masked_pos_info\n",
    "        "
   ]
  },
  {
   "cell_type": "code",
   "execution_count": 57,
   "metadata": {},
   "outputs": [],
   "source": [
    "class Head(nn.Module):\n",
    "    def __init__(self, num_head, encoder_emb_dim, dropout):\n",
    "        super().__init__()\n",
    "        self.num_head = num_head\n",
    "        self.encoder_emb_dim = encoder_emb_dim\n",
    "\n",
    "        # up_emb_size * 3 for qkv\n",
    "        self.qkv_fn = nn.Linear(self.encoder_emb_dim, self.encoder_emb_dim * 3, bias=False)\n",
    "        self.proj_qkv = nn.Linear(self.encoder_emb_dim, self.encoder_emb_dim, bias = False)\n",
    "                \n",
    "        # other\n",
    "        self.att_dropout = nn.Dropout(dropout)\n",
    "        \n",
    "    def forward(self, x):\n",
    "\n",
    "        batch_size, num_vars, _ = x.shape\n",
    "\n",
    "        # qkv: up_emb_size * 3\n",
    "        x = self.qkv_fn(x) \n",
    "        q, k, v = x.split(self.encoder_emb_dim, dim = 2) \n",
    "        \n",
    "        # split head: each shape = [batch_size, num_head, num_vars(seq_len), head_size = 8]\n",
    "        q = q.view(batch_size, num_vars, self.num_head, self.encoder_emb_dim // self.num_head).transpose(1, 2)\n",
    "        k = k.view(batch_size, num_vars, self.num_head, self.encoder_emb_dim // self.num_head).transpose(1, 2)\n",
    "        v = v.view(batch_size, num_vars, self.num_head, self.encoder_emb_dim // self.num_head).transpose(1, 2)\n",
    "        \n",
    "        # attention matrix calculation: [batch_size, num_head, num_vars(seq_len), num_vars]\n",
    "        att = (q @ k.transpose(-2,-1)) * (1 / torch.sqrt(torch.ones([1]).to(device) * k.size(-1)))\n",
    "        att = F.softmax(att, dim = -1)\n",
    "        att = self.att_dropout(att)\n",
    "        \n",
    "        # att matrix * V: [batch_size, num_head, num_vars(seq_len), head_size]\n",
    "        out = att @ v\n",
    "        out = out.transpose(1,2).contiguous().view(batch_size, num_vars, self.encoder_emb_dim)\n",
    "        out = self.proj_qkv(out)\n",
    "        \n",
    "        return out\n",
    "\n",
    "class MLP(nn.Module):\n",
    "\n",
    "    def __init__(self, transformer_emb_size):\n",
    "        super().__init__()\n",
    "        self.up    = nn.Linear(transformer_emb_size, transformer_emb_size * 3)\n",
    "        self.relu  = nn.ReLU()\n",
    "        self.down  = nn.Linear(transformer_emb_size * 3, transformer_emb_size)\n",
    "        \n",
    "    def forward(self, x):\n",
    "        x = self.up(x)\n",
    "        x = self.relu(x)\n",
    "        x = self.down(x)\n",
    "        \n",
    "        return x\n",
    "    \n",
    "class Block(nn.Module):\n",
    "    def __init__(self, encoder_emb_dim, num_head, dropout):\n",
    "        super(Block, self).__init__()\n",
    "        self.ln_head = nn.LayerNorm(encoder_emb_dim)\n",
    "        self.head = Head(num_head, encoder_emb_dim, dropout)\n",
    "        self.dropout_head = nn.Dropout(dropout)\n",
    "\n",
    "        self.ln_mlp = nn.LayerNorm(encoder_emb_dim)\n",
    "        self.mlp = MLP(encoder_emb_dim)\n",
    "        self.dropout_mlp = nn.Dropout(dropout)\n",
    "\n",
    "    def forward(self, x):\n",
    "        \n",
    "        # att \n",
    "        ori_x = x \n",
    "        x = self.head(x)\n",
    "        x = self.dropout_head(x)\n",
    "        x = self.ln_head(ori_x + x)\n",
    "        \n",
    "        # linear \n",
    "        ori_x = x \n",
    "        x = self.mlp(x)\n",
    "        x = self.dropout_mlp(x)\n",
    "        x = self.ln_mlp(ori_x + x)\n",
    "\n",
    "        return x\n",
    "\n",
    "class Transformer(nn.Module):\n",
    "    def __init__(self, encoder_emb_dim, layers, num_head, dropout):\n",
    "        super().__init__()\n",
    "        self.blocks = nn.ModuleList(Block(encoder_emb_dim, num_head, dropout) for _ in range(layers))\n",
    "        \n",
    "    def forward(self, x):\n",
    "\n",
    "        for block in self.blocks:\n",
    "            x = block(x)\n",
    "            \n",
    "        return x"
   ]
  },
  {
   "cell_type": "code",
   "execution_count": 58,
   "metadata": {},
   "outputs": [],
   "source": [
    "class tableMET(nn.Module):\n",
    "    def __init__(self, encoder_emb_dim, layers_encode, layers_decode, num_head, num_variables, dropout):\n",
    "        super().__init__()\n",
    "        self.num_variables = num_variables\n",
    "        self.unmask_ratio = ((100 - MASK_RATIO) * num_variables) // 100\n",
    "        self.mask_ratio = num_variables - ((100 - MASK_RATIO) * num_variables) // 100\n",
    "\n",
    "        # positional embedding \n",
    "        self.encoder = positional_encoder(encoder_emb_dim, num_variables)\n",
    "        \n",
    "        # encoder and decoder\n",
    "        self.transformer_encode = Transformer(encoder_emb_dim + 1, layers_encode, num_head, dropout)\n",
    "        self.transformer_decode = Transformer(encoder_emb_dim + 1, layers_decode, num_head, dropout)\n",
    "\n",
    "        # linear for latent space\n",
    "        self.latent_fn = nn.Linear(self.unmask_ratio, 1)\n",
    "\n",
    "        # final linear convert emb back into 1\n",
    "        self.proj = nn.Linear(encoder_emb_dim + 1, 1)\n",
    "        \n",
    "    def forward(self, unmasked_data, unmasked_idx, masked_idx, latent):\n",
    "        \n",
    "        # positional emcoding \n",
    "        unmasked_emb, masked_pos_info = self.encoder(unmasked_data, unmasked_idx, masked_idx)\n",
    "\n",
    "        # transformer (encoder) only for unmasked part\n",
    "        unmasked_emb = self.transformer_encode(unmasked_emb)\n",
    "\n",
    "        # latent space process\n",
    "        latent = self.latent_fn(latent)\n",
    "        latent = torch.unsqueeze(latent, dim = 1)\n",
    "        latent = latent.repeat(1, self.mask_ratio, 1)\n",
    "        mask_emb = torch.cat([latent, masked_pos_info], dim = 2)\n",
    "\n",
    "        # combine unmask_emb and mask_emb\n",
    "        all_emb = torch.cat([unmasked_emb, mask_emb], dim = 1)\n",
    "\n",
    "        # transformer (decoder) for both unmasked and masked\n",
    "        unmasked_emb = self.transformer_encode(all_emb)\n",
    "\n",
    "        # project emb from embedding space back into 1 (original feature space)\n",
    "        out = self.proj(unmasked_emb)\n",
    "        out = torch.squeeze(out)\n",
    "        \n",
    "        return out"
   ]
  },
  {
   "cell_type": "code",
   "execution_count": 59,
   "metadata": {},
   "outputs": [],
   "source": [
    "def linear_warmup_decay_lr(lr_init, lr_final, num_warmup_steps, num_training_steps):\n",
    "    \"\"\"\n",
    "    Returns a lambda function for LambdaLR.\n",
    "    - lr_init: 初始學習率\n",
    "    - lr_final: 最終學習率（不是 0）\n",
    "    - num_warmup_steps: 預熱步數\n",
    "    - num_training_steps: 總訓練步數\n",
    "    \"\"\"\n",
    "    def lr_lambda(current_step):\n",
    "        if current_step < num_warmup_steps:\n",
    "            return current_step / num_warmup_steps  # 線性預熱\n",
    "        else:\n",
    "            progress = (current_step - num_warmup_steps) / (num_training_steps - num_warmup_steps)\n",
    "            return (1 - progress) * (1 - lr_final / lr_init) + (lr_final / lr_init)  # 線性衰減到 lr_final\n",
    "    return lr_lambda"
   ]
  },
  {
   "cell_type": "code",
   "execution_count": 60,
   "metadata": {},
   "outputs": [],
   "source": [
    "LEARNING_RATE = 1e-4\n",
    "EPOCHS = 2000\n",
    "encoder_emb_dim = 64\n",
    "layers_encode = 6\n",
    "layers_decode = 2\n",
    "num_head = 1\n",
    "dropout = 0.3\n",
    "num_variables = 18\n",
    "unmask_ratio = ((100 - MASK_RATIO) * num_variables) // 100\n",
    "\n",
    "\n",
    "\n",
    "model = tableMET(encoder_emb_dim, layers_encode, layers_decode, num_head, num_variables, dropout).to(device)\n",
    "optimizer = torch.optim.AdamW(model.parameters(), lr=LEARNING_RATE, betas=(0.9, 0.95), eps=1e-6, weight_decay=1e-3)\n",
    "\n",
    "scheduler = LambdaLR(optimizer, lr_lambda=linear_warmup_decay_lr(lr_init = LEARNING_RATE, lr_final = LEARNING_RATE * 1e-2, num_warmup_steps = 10, num_training_steps = EPOCHS))\n"
   ]
  },
  {
   "cell_type": "code",
   "execution_count": 61,
   "metadata": {},
   "outputs": [
    {
     "name": "stderr",
     "output_type": "stream",
     "text": [
      "iterate epoch:   0%|          | 1/2000 [00:01<38:49,  1.17s/it]"
     ]
    },
    {
     "name": "stdout",
     "output_type": "stream",
     "text": [
      "total variables are 18: first 12 unmasked, latter 6\n",
      "epoch: 0, loss: 2273.3685191761365, num_train_sample: 22\n",
      "epoch: 0, val_loss: 2340.2654418945312, num_valid_sample: 4\n",
      "\n"
     ]
    },
    {
     "name": "stderr",
     "output_type": "stream",
     "text": [
      "iterate epoch:   3%|▎         | 51/2000 [00:54<34:50,  1.07s/it]"
     ]
    },
    {
     "name": "stdout",
     "output_type": "stream",
     "text": [
      "total variables are 18: first 12 unmasked, latter 6\n",
      "epoch: 50, loss: 1562.624267578125, num_train_sample: 22\n",
      "epoch: 50, val_loss: 1608.7869567871094, num_valid_sample: 4\n",
      "\n"
     ]
    },
    {
     "name": "stderr",
     "output_type": "stream",
     "text": [
      "iterate epoch:   5%|▌         | 101/2000 [02:02<42:21,  1.34s/it]"
     ]
    },
    {
     "name": "stdout",
     "output_type": "stream",
     "text": [
      "total variables are 18: first 12 unmasked, latter 6\n",
      "epoch: 100, loss: 1048.9265858043325, num_train_sample: 22\n",
      "epoch: 100, val_loss: 1084.2080078125, num_valid_sample: 4\n",
      "\n"
     ]
    },
    {
     "name": "stderr",
     "output_type": "stream",
     "text": [
      "iterate epoch:   8%|▊         | 151/2000 [03:00<32:50,  1.07s/it]"
     ]
    },
    {
     "name": "stdout",
     "output_type": "stream",
     "text": [
      "total variables are 18: first 12 unmasked, latter 6\n",
      "epoch: 150, loss: 614.3924699263139, num_train_sample: 22\n",
      "epoch: 150, val_loss: 637.3595886230469, num_valid_sample: 4\n",
      "\n"
     ]
    },
    {
     "name": "stderr",
     "output_type": "stream",
     "text": [
      "iterate epoch:  10%|█         | 201/2000 [03:54<32:47,  1.09s/it]"
     ]
    },
    {
     "name": "stdout",
     "output_type": "stream",
     "text": [
      "total variables are 18: first 12 unmasked, latter 6\n",
      "epoch: 200, loss: 224.271540555087, num_train_sample: 22\n",
      "epoch: 200, val_loss: 236.9947395324707, num_valid_sample: 4\n",
      "\n"
     ]
    },
    {
     "name": "stderr",
     "output_type": "stream",
     "text": [
      "iterate epoch:  13%|█▎        | 251/2000 [04:48<31:22,  1.08s/it]"
     ]
    },
    {
     "name": "stdout",
     "output_type": "stream",
     "text": [
      "total variables are 18: first 12 unmasked, latter 6\n",
      "epoch: 250, loss: 93.46808728304777, num_train_sample: 22\n",
      "epoch: 250, val_loss: 94.4640007019043, num_valid_sample: 4\n",
      "\n"
     ]
    },
    {
     "name": "stderr",
     "output_type": "stream",
     "text": [
      "iterate epoch:  15%|█▌        | 301/2000 [05:41<30:08,  1.06s/it]"
     ]
    },
    {
     "name": "stdout",
     "output_type": "stream",
     "text": [
      "total variables are 18: first 12 unmasked, latter 6\n",
      "epoch: 300, loss: 36.25982856750488, num_train_sample: 22\n",
      "epoch: 300, val_loss: 36.22468566894531, num_valid_sample: 4\n",
      "\n"
     ]
    },
    {
     "name": "stderr",
     "output_type": "stream",
     "text": [
      "iterate epoch:  18%|█▊        | 351/2000 [06:35<28:53,  1.05s/it]"
     ]
    },
    {
     "name": "stdout",
     "output_type": "stream",
     "text": [
      "total variables are 18: first 12 unmasked, latter 6\n",
      "epoch: 350, loss: 33.244886831803754, num_train_sample: 22\n",
      "epoch: 350, val_loss: 33.76628589630127, num_valid_sample: 4\n",
      "\n"
     ]
    },
    {
     "name": "stderr",
     "output_type": "stream",
     "text": [
      "iterate epoch:  20%|██        | 401/2000 [07:29<28:33,  1.07s/it]"
     ]
    },
    {
     "name": "stdout",
     "output_type": "stream",
     "text": [
      "total variables are 18: first 12 unmasked, latter 6\n",
      "epoch: 400, loss: 32.398658752441406, num_train_sample: 22\n",
      "epoch: 400, val_loss: 33.48322153091431, num_valid_sample: 4\n",
      "\n"
     ]
    },
    {
     "name": "stderr",
     "output_type": "stream",
     "text": [
      "iterate epoch:  23%|██▎       | 451/2000 [08:22<27:22,  1.06s/it]"
     ]
    },
    {
     "name": "stdout",
     "output_type": "stream",
     "text": [
      "total variables are 18: first 12 unmasked, latter 6\n",
      "epoch: 450, loss: 32.364785714582965, num_train_sample: 22\n",
      "epoch: 450, val_loss: 33.442296504974365, num_valid_sample: 4\n",
      "\n"
     ]
    },
    {
     "name": "stderr",
     "output_type": "stream",
     "text": [
      "iterate epoch:  25%|██▌       | 501/2000 [09:16<26:38,  1.07s/it]"
     ]
    },
    {
     "name": "stdout",
     "output_type": "stream",
     "text": [
      "total variables are 18: first 12 unmasked, latter 6\n",
      "epoch: 500, loss: 32.42755274339156, num_train_sample: 22\n",
      "epoch: 500, val_loss: 33.3515739440918, num_valid_sample: 4\n",
      "\n"
     ]
    },
    {
     "name": "stderr",
     "output_type": "stream",
     "text": [
      "iterate epoch:  28%|██▊       | 551/2000 [10:10<25:31,  1.06s/it]"
     ]
    },
    {
     "name": "stdout",
     "output_type": "stream",
     "text": [
      "total variables are 18: first 12 unmasked, latter 6\n",
      "epoch: 550, loss: 31.994449268687855, num_train_sample: 22\n",
      "epoch: 550, val_loss: 32.61070680618286, num_valid_sample: 4\n",
      "\n"
     ]
    },
    {
     "name": "stderr",
     "output_type": "stream",
     "text": [
      "iterate epoch:  30%|███       | 601/2000 [11:04<25:02,  1.07s/it]"
     ]
    },
    {
     "name": "stdout",
     "output_type": "stream",
     "text": [
      "total variables are 18: first 12 unmasked, latter 6\n",
      "epoch: 600, loss: 31.47881473194469, num_train_sample: 22\n",
      "epoch: 600, val_loss: 32.31589126586914, num_valid_sample: 4\n",
      "\n"
     ]
    },
    {
     "name": "stderr",
     "output_type": "stream",
     "text": [
      "iterate epoch:  33%|███▎      | 651/2000 [11:58<24:01,  1.07s/it]"
     ]
    },
    {
     "name": "stdout",
     "output_type": "stream",
     "text": [
      "total variables are 18: first 12 unmasked, latter 6\n",
      "epoch: 650, loss: 31.25196110118519, num_train_sample: 22\n",
      "epoch: 650, val_loss: 32.58854627609253, num_valid_sample: 4\n",
      "\n"
     ]
    },
    {
     "name": "stderr",
     "output_type": "stream",
     "text": [
      "iterate epoch:  35%|███▌      | 701/2000 [12:51<23:14,  1.07s/it]"
     ]
    },
    {
     "name": "stdout",
     "output_type": "stream",
     "text": [
      "total variables are 18: first 12 unmasked, latter 6\n",
      "epoch: 700, loss: 30.948675935918633, num_train_sample: 22\n",
      "epoch: 700, val_loss: 32.43081474304199, num_valid_sample: 4\n",
      "\n"
     ]
    },
    {
     "name": "stderr",
     "output_type": "stream",
     "text": [
      "iterate epoch:  38%|███▊      | 751/2000 [13:45<21:47,  1.05s/it]"
     ]
    },
    {
     "name": "stdout",
     "output_type": "stream",
     "text": [
      "total variables are 18: first 12 unmasked, latter 6\n",
      "epoch: 750, loss: 30.7189677845348, num_train_sample: 22\n",
      "epoch: 750, val_loss: 32.332791805267334, num_valid_sample: 4\n",
      "\n"
     ]
    },
    {
     "name": "stderr",
     "output_type": "stream",
     "text": [
      "iterate epoch:  40%|████      | 801/2000 [14:39<21:48,  1.09s/it]"
     ]
    },
    {
     "name": "stdout",
     "output_type": "stream",
     "text": [
      "total variables are 18: first 12 unmasked, latter 6\n",
      "epoch: 800, loss: 30.44740711558949, num_train_sample: 22\n",
      "epoch: 800, val_loss: 32.03931665420532, num_valid_sample: 4\n",
      "\n"
     ]
    },
    {
     "name": "stderr",
     "output_type": "stream",
     "text": [
      "iterate epoch:  43%|████▎     | 851/2000 [15:33<20:54,  1.09s/it]"
     ]
    },
    {
     "name": "stdout",
     "output_type": "stream",
     "text": [
      "total variables are 18: first 12 unmasked, latter 6\n",
      "epoch: 850, loss: 31.078223141756926, num_train_sample: 22\n",
      "epoch: 850, val_loss: 32.52637004852295, num_valid_sample: 4\n",
      "\n"
     ]
    },
    {
     "name": "stderr",
     "output_type": "stream",
     "text": [
      "iterate epoch:  45%|████▌     | 901/2000 [16:27<19:31,  1.07s/it]"
     ]
    },
    {
     "name": "stdout",
     "output_type": "stream",
     "text": [
      "total variables are 18: first 12 unmasked, latter 6\n",
      "epoch: 900, loss: 30.869006503712047, num_train_sample: 22\n",
      "epoch: 900, val_loss: 32.3915638923645, num_valid_sample: 4\n",
      "\n"
     ]
    },
    {
     "name": "stderr",
     "output_type": "stream",
     "text": [
      "iterate epoch:  48%|████▊     | 951/2000 [17:21<18:50,  1.08s/it]"
     ]
    },
    {
     "name": "stdout",
     "output_type": "stream",
     "text": [
      "total variables are 18: first 12 unmasked, latter 6\n",
      "epoch: 950, loss: 30.631637833335184, num_train_sample: 22\n",
      "epoch: 950, val_loss: 32.19610786437988, num_valid_sample: 4\n",
      "\n"
     ]
    },
    {
     "name": "stderr",
     "output_type": "stream",
     "text": [
      "iterate epoch:  50%|█████     | 1001/2000 [18:14<17:50,  1.07s/it]"
     ]
    },
    {
     "name": "stdout",
     "output_type": "stream",
     "text": [
      "total variables are 18: first 12 unmasked, latter 6\n",
      "epoch: 1000, loss: 31.070114742625844, num_train_sample: 22\n",
      "epoch: 1000, val_loss: 32.162548542022705, num_valid_sample: 4\n",
      "\n"
     ]
    },
    {
     "name": "stderr",
     "output_type": "stream",
     "text": [
      "iterate epoch:  53%|█████▎    | 1051/2000 [19:08<17:04,  1.08s/it]"
     ]
    },
    {
     "name": "stdout",
     "output_type": "stream",
     "text": [
      "total variables are 18: first 12 unmasked, latter 6\n",
      "epoch: 1050, loss: 30.815827803178266, num_train_sample: 22\n",
      "epoch: 1050, val_loss: 32.08195877075195, num_valid_sample: 4\n",
      "\n"
     ]
    },
    {
     "name": "stderr",
     "output_type": "stream",
     "text": [
      "iterate epoch:  55%|█████▌    | 1101/2000 [20:02<16:24,  1.09s/it]"
     ]
    },
    {
     "name": "stdout",
     "output_type": "stream",
     "text": [
      "total variables are 18: first 12 unmasked, latter 6\n",
      "epoch: 1100, loss: 30.61350883137096, num_train_sample: 22\n",
      "epoch: 1100, val_loss: 32.10216569900513, num_valid_sample: 4\n",
      "\n"
     ]
    },
    {
     "name": "stderr",
     "output_type": "stream",
     "text": [
      "iterate epoch:  58%|█████▊    | 1151/2000 [20:56<14:40,  1.04s/it]"
     ]
    },
    {
     "name": "stdout",
     "output_type": "stream",
     "text": [
      "total variables are 18: first 12 unmasked, latter 6\n",
      "epoch: 1150, loss: 30.801350420171563, num_train_sample: 22\n",
      "epoch: 1150, val_loss: 32.225749015808105, num_valid_sample: 4\n",
      "\n"
     ]
    },
    {
     "name": "stderr",
     "output_type": "stream",
     "text": [
      "iterate epoch:  60%|██████    | 1201/2000 [21:49<14:19,  1.08s/it]"
     ]
    },
    {
     "name": "stdout",
     "output_type": "stream",
     "text": [
      "total variables are 18: first 12 unmasked, latter 6\n",
      "epoch: 1200, loss: 30.189371542497113, num_train_sample: 22\n",
      "epoch: 1200, val_loss: 32.15624761581421, num_valid_sample: 4\n",
      "\n"
     ]
    },
    {
     "name": "stderr",
     "output_type": "stream",
     "text": [
      "iterate epoch:  63%|██████▎   | 1251/2000 [22:43<13:38,  1.09s/it]"
     ]
    },
    {
     "name": "stdout",
     "output_type": "stream",
     "text": [
      "total variables are 18: first 12 unmasked, latter 6\n",
      "epoch: 1250, loss: 30.644234917380594, num_train_sample: 22\n",
      "epoch: 1250, val_loss: 32.27229404449463, num_valid_sample: 4\n",
      "\n"
     ]
    },
    {
     "name": "stderr",
     "output_type": "stream",
     "text": [
      "iterate epoch:  65%|██████▌   | 1301/2000 [23:37<12:23,  1.06s/it]"
     ]
    },
    {
     "name": "stdout",
     "output_type": "stream",
     "text": [
      "total variables are 18: first 12 unmasked, latter 6\n",
      "epoch: 1300, loss: 30.716715119101785, num_train_sample: 22\n",
      "epoch: 1300, val_loss: 32.089237213134766, num_valid_sample: 4\n",
      "\n"
     ]
    },
    {
     "name": "stderr",
     "output_type": "stream",
     "text": [
      "iterate epoch:  68%|██████▊   | 1351/2000 [24:31<11:28,  1.06s/it]"
     ]
    },
    {
     "name": "stdout",
     "output_type": "stream",
     "text": [
      "total variables are 18: first 12 unmasked, latter 6\n",
      "epoch: 1350, loss: 31.15267562866211, num_train_sample: 22\n",
      "epoch: 1350, val_loss: 32.15313911437988, num_valid_sample: 4\n",
      "\n"
     ]
    },
    {
     "name": "stderr",
     "output_type": "stream",
     "text": [
      "iterate epoch:  70%|███████   | 1401/2000 [25:24<10:42,  1.07s/it]"
     ]
    },
    {
     "name": "stdout",
     "output_type": "stream",
     "text": [
      "total variables are 18: first 12 unmasked, latter 6\n",
      "epoch: 1400, loss: 30.165658083829012, num_train_sample: 22\n",
      "epoch: 1400, val_loss: 32.0352783203125, num_valid_sample: 4\n",
      "\n"
     ]
    },
    {
     "name": "stderr",
     "output_type": "stream",
     "text": [
      "iterate epoch:  73%|███████▎  | 1451/2000 [26:16<10:01,  1.10s/it]"
     ]
    },
    {
     "name": "stdout",
     "output_type": "stream",
     "text": [
      "total variables are 18: first 12 unmasked, latter 6\n",
      "epoch: 1450, loss: 30.40984500538219, num_train_sample: 22\n",
      "epoch: 1450, val_loss: 32.04819202423096, num_valid_sample: 4\n",
      "\n"
     ]
    },
    {
     "name": "stderr",
     "output_type": "stream",
     "text": [
      "iterate epoch:  75%|███████▌  | 1501/2000 [27:09<09:00,  1.08s/it]"
     ]
    },
    {
     "name": "stdout",
     "output_type": "stream",
     "text": [
      "total variables are 18: first 12 unmasked, latter 6\n",
      "epoch: 1500, loss: 30.696696801619098, num_train_sample: 22\n",
      "epoch: 1500, val_loss: 32.02051782608032, num_valid_sample: 4\n",
      "\n"
     ]
    },
    {
     "name": "stderr",
     "output_type": "stream",
     "text": [
      "iterate epoch:  78%|███████▊  | 1551/2000 [28:03<08:06,  1.08s/it]"
     ]
    },
    {
     "name": "stdout",
     "output_type": "stream",
     "text": [
      "total variables are 18: first 12 unmasked, latter 6\n",
      "epoch: 1550, loss: 30.8241849379106, num_train_sample: 22\n",
      "epoch: 1550, val_loss: 32.07901859283447, num_valid_sample: 4\n",
      "\n"
     ]
    },
    {
     "name": "stderr",
     "output_type": "stream",
     "text": [
      "iterate epoch:  80%|████████  | 1601/2000 [28:54<07:13,  1.09s/it]"
     ]
    },
    {
     "name": "stdout",
     "output_type": "stream",
     "text": [
      "total variables are 18: first 12 unmasked, latter 6\n",
      "epoch: 1600, loss: 30.265888127413664, num_train_sample: 22\n",
      "epoch: 1600, val_loss: 32.010183811187744, num_valid_sample: 4\n",
      "\n"
     ]
    },
    {
     "name": "stderr",
     "output_type": "stream",
     "text": [
      "iterate epoch:  83%|████████▎ | 1651/2000 [29:48<06:06,  1.05s/it]"
     ]
    },
    {
     "name": "stdout",
     "output_type": "stream",
     "text": [
      "total variables are 18: first 12 unmasked, latter 6\n",
      "epoch: 1650, loss: 30.337484273043547, num_train_sample: 22\n",
      "epoch: 1650, val_loss: 31.96937608718872, num_valid_sample: 4\n",
      "\n"
     ]
    },
    {
     "name": "stderr",
     "output_type": "stream",
     "text": [
      "iterate epoch:  85%|████████▌ | 1701/2000 [30:42<05:23,  1.08s/it]"
     ]
    },
    {
     "name": "stdout",
     "output_type": "stream",
     "text": [
      "total variables are 18: first 12 unmasked, latter 6\n",
      "epoch: 1700, loss: 30.39453272386031, num_train_sample: 22\n",
      "epoch: 1700, val_loss: 32.25892639160156, num_valid_sample: 4\n",
      "\n"
     ]
    },
    {
     "name": "stderr",
     "output_type": "stream",
     "text": [
      "iterate epoch:  88%|████████▊ | 1751/2000 [31:35<04:31,  1.09s/it]"
     ]
    },
    {
     "name": "stdout",
     "output_type": "stream",
     "text": [
      "total variables are 18: first 12 unmasked, latter 6\n",
      "epoch: 1750, loss: 30.089007897810504, num_train_sample: 22\n",
      "epoch: 1750, val_loss: 32.03260517120361, num_valid_sample: 4\n",
      "\n"
     ]
    },
    {
     "name": "stderr",
     "output_type": "stream",
     "text": [
      "iterate epoch:  90%|█████████ | 1801/2000 [32:29<03:28,  1.05s/it]"
     ]
    },
    {
     "name": "stdout",
     "output_type": "stream",
     "text": [
      "total variables are 18: first 12 unmasked, latter 6\n",
      "epoch: 1800, loss: 30.835477222095836, num_train_sample: 22\n",
      "epoch: 1800, val_loss: 32.13544702529907, num_valid_sample: 4\n",
      "\n"
     ]
    },
    {
     "name": "stderr",
     "output_type": "stream",
     "text": [
      "iterate epoch:  93%|█████████▎| 1851/2000 [33:23<02:41,  1.08s/it]"
     ]
    },
    {
     "name": "stdout",
     "output_type": "stream",
     "text": [
      "total variables are 18: first 12 unmasked, latter 6\n",
      "epoch: 1850, loss: 30.414102814414285, num_train_sample: 22\n",
      "epoch: 1850, val_loss: 32.09553861618042, num_valid_sample: 4\n",
      "\n"
     ]
    },
    {
     "name": "stderr",
     "output_type": "stream",
     "text": [
      "iterate epoch:  95%|█████████▌| 1901/2000 [34:16<01:46,  1.08s/it]"
     ]
    },
    {
     "name": "stdout",
     "output_type": "stream",
     "text": [
      "total variables are 18: first 12 unmasked, latter 6\n",
      "epoch: 1900, loss: 30.1575609553944, num_train_sample: 22\n",
      "epoch: 1900, val_loss: 31.99727725982666, num_valid_sample: 4\n",
      "\n"
     ]
    },
    {
     "name": "stderr",
     "output_type": "stream",
     "text": [
      "iterate epoch:  98%|█████████▊| 1951/2000 [35:09<00:52,  1.07s/it]"
     ]
    },
    {
     "name": "stdout",
     "output_type": "stream",
     "text": [
      "total variables are 18: first 12 unmasked, latter 6\n",
      "epoch: 1950, loss: 30.143220988186922, num_train_sample: 22\n",
      "epoch: 1950, val_loss: 32.05342483520508, num_valid_sample: 4\n",
      "\n"
     ]
    },
    {
     "name": "stderr",
     "output_type": "stream",
     "text": [
      "iterate epoch: 100%|██████████| 2000/2000 [36:01<00:00,  1.08s/it]\n"
     ]
    }
   ],
   "source": [
    "MSE_loss_fn = nn.MSELoss()\n",
    "\n",
    "train_LOSS = []\n",
    "valid_LOSS = []\n",
    "\n",
    "for epoch in tqdm(range(EPOCHS), desc=\"iterate epoch\"):\n",
    "    \n",
    "    losses = []\n",
    "    val_losses = []\n",
    "\n",
    "    model.train()\n",
    "    for data, label in train_dataloader:\n",
    "        unmasked_data = data[0].float().to(device)\n",
    "        unmasked_idx = data[1].long().to(device)\n",
    "        masked_idx = data[2].long().to(device)\n",
    "        latent = data[3].float().to(device)\n",
    "        label = label.float().to(device)\n",
    "        \n",
    "        pred = model(unmasked_data, unmasked_idx, masked_idx, latent)\n",
    "        \n",
    "        # only calculate mask loss\n",
    "        # label_mask = label[:, -len(masked_idx):]\n",
    "        # pred_mask = pred[:, -len(masked_idx):]\n",
    "        # loss = MSE_loss_fn(pred_mask, label_mask)\n",
    "\n",
    "        loss = MSE_loss_fn(pred, label)\n",
    "\n",
    "        \n",
    "        losses.append(loss.item())\n",
    "\n",
    "        optimizer.zero_grad()\n",
    "        loss.backward()\n",
    "        optimizer.step()\n",
    "\n",
    "    scheduler.step()\n",
    "    \n",
    "    losses = np.mean(losses)\n",
    "    train_LOSS.append(losses)\n",
    "    \n",
    "    if epoch % 50 == 0:\n",
    "        print(f'total variables are {num_variables}: first {unmask_ratio} unmasked, latter {num_variables - unmask_ratio}')\n",
    "        print(f\"epoch: {epoch}, loss: {losses}, num_train_sample: {len(train_dataloader)}\")\n",
    "    \n",
    "    with torch.no_grad():\n",
    "        model.eval()\n",
    "        for data, label in valid_dataloader:\n",
    "            unmasked_data = data[0].float().to(device)\n",
    "            unmasked_idx = data[1].long().to(device)\n",
    "            masked_idx = data[2].long().to(device)\n",
    "            latent = data[3].float().to(device)\n",
    "            label = label.float().to(device)\n",
    "\n",
    "            pred = model(unmasked_data, unmasked_idx, masked_idx, latent)\n",
    "            \n",
    "            # only calculate mask loss\n",
    "            # label_mask = label[:, -len(masked_idx):]\n",
    "            # pred_mask = pred[:, -len(masked_idx):]\n",
    "            # loss = MSE_loss_fn(pred_mask, label_mask)\n",
    "            \n",
    "            loss = MSE_loss_fn(pred, label)\n",
    "\n",
    "            \n",
    "            val_losses.append(loss.item())\n",
    "            \n",
    "    val_losses = np.mean(val_losses)\n",
    "    valid_LOSS.append(val_losses)\n",
    "    \n",
    "    if epoch % 50 == 0:\n",
    "        print(f\"epoch: {epoch}, val_loss: {val_losses}, num_valid_sample: {len(valid_dataloader)}\")\n",
    "        print()        \n",
    "        \n",
    "    "
   ]
  },
  {
   "cell_type": "code",
   "execution_count": 62,
   "metadata": {},
   "outputs": [
    {
     "name": "stderr",
     "output_type": "stream",
     "text": [
      "/tmp/ipykernel_2098495/4028703919.py:6: UserWarning: No artists with labels found to put in legend.  Note that artists whose label start with an underscore are ignored when legend() is called with no argument.\n",
      "  plt.legend()\n"
     ]
    },
    {
     "data": {
      "image/png": "[encoded data removed]",
      "text/plain": [
       "<Figure size 640x480 with 1 Axes>"
      ]
     },
     "metadata": {},
     "output_type": "display_data"
    }
   ],
   "source": [
    "\n",
    "\n",
    "plt .plot(range(len(train_LOSS)), train_LOSS, color = 'blue')\n",
    "plt.plot(range(len(valid_LOSS)), valid_LOSS, color = 'red')\n",
    "\n",
    "plt.xlabel('Epochs')\n",
    "plt.ylabel('Loss')\n",
    "plt.legend()\n",
    "plt.show()"
   ]
  },
  {
   "cell_type": "markdown",
   "metadata": {},
   "source": [
    "# Inference"
   ]
  },
  {
   "cell_type": "code",
   "execution_count": 63,
   "metadata": {},
   "outputs": [
    {
     "name": "stdout",
     "output_type": "stream",
     "text": [
      "unmasked_dat: (12,)\n",
      "unmasked_id: (12,)\n",
      "masked_id: (6,)\n",
      "label_: (18,)\n",
      "pred_: (18,)\n"
     ]
    },
    {
     "data": {
      "text/html": [
       "<div>\n",
       "<style scoped>\n",
       "    .dataframe tbody tr th:only-of-type {\n",
       "        vertical-align: middle;\n",
       "    }\n",
       "\n",
       "    .dataframe tbody tr th {\n",
       "        vertical-align: top;\n",
       "    }\n",
       "\n",
       "    .dataframe thead th {\n",
       "        text-align: right;\n",
       "    }\n",
       "</style>\n",
       "<table border=\"1\" class=\"dataframe\">\n",
       "  <thead>\n",
       "    <tr style=\"text-align: right;\">\n",
       "      <th></th>\n",
       "      <th>Grade</th>\n",
       "      <th>Internet_Access_at_Home</th>\n",
       "      <th>Family_Income_Level</th>\n",
       "      <th>Attendance (%)</th>\n",
       "      <th>Final_Score</th>\n",
       "      <th>Assignments_Avg</th>\n",
       "      <th>Quizzes_Avg</th>\n",
       "      <th>Projects_Score</th>\n",
       "      <th>Study_Hours_per_Week</th>\n",
       "      <th>Age</th>\n",
       "      <th>Sleep_Hours_per_Night</th>\n",
       "      <th>Stress_Level (1-10)</th>\n",
       "      <th>Gender</th>\n",
       "      <th>Department</th>\n",
       "      <th>Extracurricular_Activities</th>\n",
       "      <th>Parent_Education_Level</th>\n",
       "      <th>Midterm_Score</th>\n",
       "      <th>Total_Score</th>\n",
       "    </tr>\n",
       "  </thead>\n",
       "  <tbody>\n",
       "    <tr>\n",
       "      <th>0</th>\n",
       "      <td>2.059013</td>\n",
       "      <td>0.930044</td>\n",
       "      <td>2.044164</td>\n",
       "      <td>80.956963</td>\n",
       "      <td>77.003777</td>\n",
       "      <td>83.814072</td>\n",
       "      <td>66.218658</td>\n",
       "      <td>93.624268</td>\n",
       "      <td>21.848301</td>\n",
       "      <td>24.665663</td>\n",
       "      <td>7.751856</td>\n",
       "      <td>5.317892</td>\n",
       "      <td>0.301193</td>\n",
       "      <td>1.054168</td>\n",
       "      <td>0.033243</td>\n",
       "      <td>1.413223</td>\n",
       "      <td>70.216843</td>\n",
       "      <td>76.649887</td>\n",
       "    </tr>\n",
       "    <tr>\n",
       "      <th>1</th>\n",
       "      <td>2.000000</td>\n",
       "      <td>1.000000</td>\n",
       "      <td>2.000000</td>\n",
       "      <td>80.300003</td>\n",
       "      <td>76.290001</td>\n",
       "      <td>83.419998</td>\n",
       "      <td>65.230003</td>\n",
       "      <td>93.500000</td>\n",
       "      <td>21.100000</td>\n",
       "      <td>24.000000</td>\n",
       "      <td>7.400000</td>\n",
       "      <td>5.000000</td>\n",
       "      <td>0.000000</td>\n",
       "      <td>1.000000</td>\n",
       "      <td>1.000000</td>\n",
       "      <td>0.000000</td>\n",
       "      <td>45.099998</td>\n",
       "      <td>50.220001</td>\n",
       "    </tr>\n",
       "  </tbody>\n",
       "</table>\n",
       "</div>"
      ],
      "text/plain": [
       "      Grade  Internet_Access_at_Home  Family_Income_Level  Attendance (%)  \\\n",
       "0  2.059013                 0.930044             2.044164       80.956963   \n",
       "1  2.000000                 1.000000             2.000000       80.300003   \n",
       "\n",
       "   Final_Score  Assignments_Avg  Quizzes_Avg  Projects_Score  \\\n",
       "0    77.003777        83.814072    66.218658       93.624268   \n",
       "1    76.290001        83.419998    65.230003       93.500000   \n",
       "\n",
       "   Study_Hours_per_Week        Age  Sleep_Hours_per_Night  \\\n",
       "0             21.848301  24.665663               7.751856   \n",
       "1             21.100000  24.000000               7.400000   \n",
       "\n",
       "   Stress_Level (1-10)    Gender  Department  Extracurricular_Activities  \\\n",
       "0             5.317892  0.301193    1.054168                    0.033243   \n",
       "1             5.000000  0.000000    1.000000                    1.000000   \n",
       "\n",
       "   Parent_Education_Level  Midterm_Score  Total_Score  \n",
       "0                1.413223      70.216843    76.649887  \n",
       "1                0.000000      45.099998    50.220001  "
      ]
     },
     "execution_count": 63,
     "metadata": {},
     "output_type": "execute_result"
    }
   ],
   "source": [
    "unmasked_dat = np.array(unmasked_data[0].detach().cpu())\n",
    "unmasked_id = np.array(unmasked_idx[0].detach().cpu(), dtype=int)\n",
    "masked_id = np.array(masked_idx[0].detach().cpu(), dtype=int)\n",
    "# latent_ = np.array(latent[0].detach().cpu(), dtype=int)\n",
    "label_ = np.array(label[0].detach().cpu())\n",
    "pred_ = np.array(pred[0].detach().cpu())\n",
    "\n",
    "unmask_cols = list(cols_name[unmasked_id])\n",
    "mask_cols = list(cols_name[masked_id])\n",
    "all_cols = unmask_cols + mask_cols\n",
    "\n",
    "res = pd.DataFrame([pred_, label_], columns = all_cols)\n",
    "\n",
    "print(f\"unmasked_dat: {unmasked_dat.shape}\")\n",
    "print(f\"unmasked_id: {unmasked_id.shape}\")\n",
    "print(f\"masked_id: {masked_id.shape}\")\n",
    "print(f\"label_: {label_.shape}\")\n",
    "print(f\"pred_: {pred_.shape}\")\n",
    "\n",
    "res"
   ]
  },
  {
   "cell_type": "code",
   "execution_count": null,
   "metadata": {},
   "outputs": [],
   "source": []
  }
 ],
 "metadata": {
  "kernelspec": {
   "display_name": "Vit",
   "language": "python",
   "name": "python3"
  },
  "language_info": {
   "codemirror_mode": {
    "name": "ipython",
    "version": 3
   },
   "file_extension": ".py",
   "mimetype": "text/x-python",
   "name": "python",
   "nbconvert_exporter": "python",
   "pygments_lexer": "ipython3",
   "version": "3.12.9"
  }
 },
 "nbformat": 4,
 "nbformat_minor": 2
}
